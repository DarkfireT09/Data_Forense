{
 "cells": [
  {
   "cell_type": "markdown",
   "metadata": {},
   "source": [
    "## Configuration"
   ]
  },
  {
   "cell_type": "markdown",
   "metadata": {},
   "source": [
    "### Imports"
   ]
  },
  {
   "cell_type": "code",
   "execution_count": 124,
   "metadata": {},
   "outputs": [],
   "source": [
    "# Utilities\n",
    "from IPython.display import display\n",
    "from fastprogress import master_bar, progress_bar\n",
    "import os\n",
    "import ntpath\n",
    "import numpy as np\n",
    "import pandas as pd\n",
    "from collections.abc import MutableMapping\n",
    "\n",
    "# MongoDB functionality\n",
    "from pymongo.errors import BulkWriteError\n",
    "from pymongo import MongoClient, InsertOne\n",
    "#from pymongo.bulk import BulkOperationBuilder# -> deprecated\n",
    "\n",
    "# Indexes\n",
    "import uuid\n",
    "from bson import ObjectId"
   ]
  },
  {
   "cell_type": "markdown",
   "metadata": {},
   "source": [
    "### Variables"
   ]
  },
  {
   "cell_type": "code",
   "execution_count": 125,
   "metadata": {},
   "outputs": [],
   "source": [
    "# Directories where CSV data is stored\n",
    "#ROOT_DIR = \"/home/mattia/javier/botbusters-spanish-general-elections-network-analysis/\"\n",
    "ROOT_DIR = \"/home/camilo/Documents/universidad/sem_8/forense/final/botbusters-spanish-general-elections-network-analysis/\"\n",
    "DATA_DIR = ROOT_DIR + \"data/\"\n",
    "\n",
    "# Change path to root\n",
    "os.chdir(ROOT_DIR)\n",
    "\n",
    "\n",
    "# MongoDB parameters\n",
    "mongoclient = MongoClient('localhost', 27017)\n",
    "#db = mongoclient.influence\n",
    "#db = mongoclient.test_spanish_election\n",
    "db = mongoclient['test_spanish_election']"
   ]
  },
  {
   "cell_type": "code",
   "execution_count": 126,
   "metadata": {},
   "outputs": [
    {
     "name": "stdout",
     "output_type": "stream",
     "text": [
      "{'_id': ObjectId('6518b1d2700cf62b1e433e5e'), 'x': 1}\n"
     ]
    }
   ],
   "source": [
    "#read the collection myCollection of my mongodb\n",
    "collection = db['myCollection']\n",
    "x = collection.find_one()\n",
    "print(x)\n",
    "\n"
   ]
  },
  {
   "cell_type": "markdown",
   "metadata": {},
   "source": [
    "### Support Functions"
   ]
  },
  {
   "cell_type": "code",
   "execution_count": 127,
   "metadata": {},
   "outputs": [],
   "source": [
    "def make_uuid(uuid_str):\n",
    "    \"\"\"Makes an UUID from string\n",
    "    \n",
    "    Keyword arguments:\n",
    "    uuid_str -- uuid string to be converted into UUID\n",
    "    \"\"\"\n",
    "    uuid_str = str(uuid_str)\n",
    "    if not uuid_str.strip():\n",
    "        return None\n",
    "    try:\n",
    "        return uuid.UUID(uuid_str)\n",
    "    except Exception as ex:\n",
    "        #print(uuid_str, ex)\n",
    "        return None\n",
    "    \n",
    "def make_objid(text):\n",
    "    \"\"\"Makes an ObjectId of 4 bytes\n",
    "    \n",
    "    Keyword arguments:\n",
    "    text -- string to be converted into Object ID\n",
    "    \"\"\"\n",
    "    text = str(text)\n",
    "    if not text.strip():\n",
    "        return None\n",
    "    try:\n",
    "        return ObjectId(text.rjust(24,\"0\"))\n",
    "    except Exception as ex:\n",
    "        print(text, ex)\n",
    "        return None\n",
    "    \n",
    "def df_to_mongodb(df, collection):\n",
    "    \"\"\"Saves the dataframe in a MongoDB collection\n",
    "\n",
    "    Keyword arguments:\n",
    "    df -- dataframe to dump\n",
    "    collection -- MongoDB collection to fulfill\n",
    "    \"\"\"\n",
    "    try:\n",
    " \n",
    "        if df is None:\n",
    "            return\n",
    "\n",
    "        print(\"Preparing DB operations...\", end=\" \")\n",
    "        records = df.to_dict('records')\n",
    "        \n",
    "        operations = []\n",
    "        for record in progress_bar(records):\n",
    "            operations.append(InsertOne(record))  \n",
    "\n",
    "            if len(operations) > 20000:\n",
    "                results = collection.bulk_write(operations)\n",
    "                print(\"M:\", str(results.matched_count).rjust(8, \" \"),\n",
    "                      \" I:\", str(results.inserted_count).rjust(8, \" \"),\n",
    "                      \" U:\", str(results.upserted_count).rjust(8, \" \"))\n",
    "                operations = []\n",
    "\n",
    "        if len(operations) > 0: \n",
    "            results = collection.bulk_write(operations)\n",
    "            print(\"M:\", str(results.matched_count).rjust(8, \" \"),\n",
    "                  \" I:\", str(results.inserted_count).rjust(8, \" \"),\n",
    "                  \" U:\", str(results.upserted_count).rjust(8, \" \"))\n",
    "\n",
    "    except Exception as e:\n",
    "        print(\"Exception. Message:\", e)"
   ]
  },
  {
   "cell_type": "markdown",
   "metadata": {},
   "source": [
    "## Load CSV in MongoDB"
   ]
  },
  {
   "cell_type": "markdown",
   "metadata": {},
   "source": [
    "### Tweets collection"
   ]
  },
  {
   "cell_type": "code",
   "execution_count": 128,
   "metadata": {},
   "outputs": [],
   "source": [
    "tweets_columns = {\n",
    "    # tweets\n",
    "    0: str,\n",
    "    1: str,\n",
    "    2: 'Int64',\n",
    "    3: str,\n",
    "    4: str,\n",
    "    5: str\n",
    "}\n",
    "\n",
    "def read_tweets(filename):\n",
    "    \"\"\"Parses the tweets CSV returning a DataFrame.\n",
    "    \n",
    "    Keyword arguments:\n",
    "    filename -- name of the CSV\n",
    "    \"\"\"\n",
    "    print(\"Processing\", ntpath.basename(filename), end=\"\\t\")\n",
    "\n",
    "    df = pd.read_csv(filename, \n",
    "                     header=0,\n",
    "                     sep=',',\n",
    "                     low_memory=False, \n",
    "                     keep_default_na=True, \n",
    "                     dtype=tweets_columns, \n",
    "                     #usecols=[0,9,11,1,5,6,10],\n",
    "                     usecols=[0,1,5,6,9,10],\n",
    "                     #names=['_id', 'user_id', 'source', 'date', 'retweets', 'tweet_id', 'url'])\n",
    "                     names=['_id', 'date', 'retweets', 'tweet_id', 'user_id', 'url'])   \n",
    "\n",
    "    print(\"CSV\", end=\" \")\n",
    "\n",
    "    display(df.head(5))\n",
    "    print(\"#:\", len(df), end=\" entries; \")\n",
    "\n",
    "    \n",
    "    # # Discard URL entries\n",
    "    # df = df[df.source=='twitter']\n",
    "    # df.drop(columns=['source'],inplace=True)\n",
    "    # print(\"#:\", len(df), end=\" entries; \")\n",
    "    \n",
    "    # Make index as UUID\n",
    "    #df['_id'] = df['_id'].apply(make_uuid)\n",
    "    print(\"#:\", len(df), end=\" entries; \")\n",
    "    \n",
    "    # # # Create ObjectIDs to avoid any potential issue\n",
    "    # df['user_id'] = df['user_id'].apply(make_objid)\n",
    "    # df['tweet_id'] = df['tweet_id'].apply(make_objid)\n",
    "    # # print(\"#:\", len(df), end=\" entries; \")\n",
    "\n",
    "    # df['user_id'] = df['user_id'].apply(make_uuid)\n",
    "    # df['tweet_id'] = df['tweet_id'].apply(make_uuid)\n",
    "    # print(\"#:\", len(df), end=\" entries; \")\n",
    "\n",
    "    # Make datetime objects\n",
    "    df['date'] = pd.to_datetime(df['date'], infer_datetime_format=False, format=\"%Y-%m-%d %H:%M:%S\")\n",
    "    print(\"#:\", len(df), end=\" entries; \")\n",
    "    \n",
    "    # Force integer\n",
    "    df['retweets'] = df['retweets'].astype('int')\n",
    "    print(\"#:\", len(df), end=\" entries; \")\n",
    "\n",
    "    print(\"OK\", end=\"; \")\n",
    "\n",
    "    print(\"#:\", len(df), end=\" entries; \")\n",
    "\n",
    "    return df"
   ]
  },
  {
   "cell_type": "code",
   "execution_count": 129,
   "metadata": {},
   "outputs": [
    {
     "name": "stdout",
     "output_type": "stream",
     "text": [
      "Processing quarter_tweets.csv\t"
     ]
    },
    {
     "name": "stdout",
     "output_type": "stream",
     "text": [
      "CSV "
     ]
    },
    {
     "data": {
      "text/html": [
       "<div>\n",
       "<style scoped>\n",
       "    .dataframe tbody tr th:only-of-type {\n",
       "        vertical-align: middle;\n",
       "    }\n",
       "\n",
       "    .dataframe tbody tr th {\n",
       "        vertical-align: top;\n",
       "    }\n",
       "\n",
       "    .dataframe thead th {\n",
       "        text-align: right;\n",
       "    }\n",
       "</style>\n",
       "<table border=\"1\" class=\"dataframe\">\n",
       "  <thead>\n",
       "    <tr style=\"text-align: right;\">\n",
       "      <th></th>\n",
       "      <th>_id</th>\n",
       "      <th>date</th>\n",
       "      <th>retweets</th>\n",
       "      <th>tweet_id</th>\n",
       "      <th>user_id</th>\n",
       "      <th>url</th>\n",
       "    </tr>\n",
       "  </thead>\n",
       "  <tbody>\n",
       "    <tr>\n",
       "      <th>0</th>\n",
       "      <td>0000003C572F4897B02ED634986A2FC0</td>\n",
       "      <td>2019-10-28T12:00:00.000Z</td>\n",
       "      <td>746</td>\n",
       "      <td>9FA5D424C04C4A1FAAE1F13CB48CEF3A</td>\n",
       "      <td>A145D4F25EF1453A82DA85E11660F875</td>\n",
       "      <td>0.078595</td>\n",
       "    </tr>\n",
       "    <tr>\n",
       "      <th>1</th>\n",
       "      <td>0000038959814291A01F22AD21B450E5</td>\n",
       "      <td>2019-10-08T12:00:00.000Z</td>\n",
       "      <td>974</td>\n",
       "      <td>94FFCF90FA3346FDB026D38C819499D8</td>\n",
       "      <td>637490CBEB4E4921BBE486F32A6ACC9D</td>\n",
       "      <td>0.049035</td>\n",
       "    </tr>\n",
       "    <tr>\n",
       "      <th>2</th>\n",
       "      <td>0000097D875B42A0B41993B7F4978057</td>\n",
       "      <td>2019-11-07T12:00:00.000Z</td>\n",
       "      <td>48</td>\n",
       "      <td>905885A62EE2469DB921591055E69076</td>\n",
       "      <td>C8A8AB4E56474B8C8904462CE93B9783</td>\n",
       "      <td>0.018845</td>\n",
       "    </tr>\n",
       "    <tr>\n",
       "      <th>3</th>\n",
       "      <td>000009C5DD7F4F67BD90F29AC8FAD12C</td>\n",
       "      <td>2019-10-14T12:00:00.000Z</td>\n",
       "      <td>1</td>\n",
       "      <td>NaN</td>\n",
       "      <td>16BF765B2C51417780F3C9EB0F597EA4</td>\n",
       "      <td>0.018031</td>\n",
       "    </tr>\n",
       "    <tr>\n",
       "      <th>4</th>\n",
       "      <td>00000AE070FE4638A9D8F393A0B1A5B9</td>\n",
       "      <td>2019-11-10T12:00:00.000Z</td>\n",
       "      <td>1483</td>\n",
       "      <td>2817E3D23C0544309B9C142E710D3F56</td>\n",
       "      <td>986064C267C642C5B02A2DA0646E9D9B</td>\n",
       "      <td>0.121183</td>\n",
       "    </tr>\n",
       "  </tbody>\n",
       "</table>\n",
       "</div>"
      ],
      "text/plain": [
       "                                _id                      date retweets  \\\n",
       "0  0000003C572F4897B02ED634986A2FC0  2019-10-28T12:00:00.000Z      746   \n",
       "1  0000038959814291A01F22AD21B450E5  2019-10-08T12:00:00.000Z      974   \n",
       "2  0000097D875B42A0B41993B7F4978057  2019-11-07T12:00:00.000Z       48   \n",
       "3  000009C5DD7F4F67BD90F29AC8FAD12C  2019-10-14T12:00:00.000Z        1   \n",
       "4  00000AE070FE4638A9D8F393A0B1A5B9  2019-11-10T12:00:00.000Z     1483   \n",
       "\n",
       "                           tweet_id                           user_id  \\\n",
       "0  9FA5D424C04C4A1FAAE1F13CB48CEF3A  A145D4F25EF1453A82DA85E11660F875   \n",
       "1  94FFCF90FA3346FDB026D38C819499D8  637490CBEB4E4921BBE486F32A6ACC9D   \n",
       "2  905885A62EE2469DB921591055E69076  C8A8AB4E56474B8C8904462CE93B9783   \n",
       "3                               NaN  16BF765B2C51417780F3C9EB0F597EA4   \n",
       "4  2817E3D23C0544309B9C142E710D3F56  986064C267C642C5B02A2DA0646E9D9B   \n",
       "\n",
       "        url  \n",
       "0  0.078595  \n",
       "1  0.049035  \n",
       "2  0.018845  \n",
       "3  0.018031  \n",
       "4  0.121183  "
      ]
     },
     "metadata": {},
     "output_type": "display_data"
    },
    {
     "name": "stdout",
     "output_type": "stream",
     "text": [
      "#: 582665 entries; #: 582665 entries; #: 582665 entries; #: 582665 entries; OK; #: 582665 entries; "
     ]
    },
    {
     "data": {
      "text/html": [
       "<div>\n",
       "<style scoped>\n",
       "    .dataframe tbody tr th:only-of-type {\n",
       "        vertical-align: middle;\n",
       "    }\n",
       "\n",
       "    .dataframe tbody tr th {\n",
       "        vertical-align: top;\n",
       "    }\n",
       "\n",
       "    .dataframe thead th {\n",
       "        text-align: right;\n",
       "    }\n",
       "</style>\n",
       "<table border=\"1\" class=\"dataframe\">\n",
       "  <thead>\n",
       "    <tr style=\"text-align: right;\">\n",
       "      <th></th>\n",
       "      <th>_id</th>\n",
       "      <th>date</th>\n",
       "      <th>retweets</th>\n",
       "      <th>tweet_id</th>\n",
       "      <th>user_id</th>\n",
       "      <th>url</th>\n",
       "    </tr>\n",
       "  </thead>\n",
       "  <tbody>\n",
       "    <tr>\n",
       "      <th>0</th>\n",
       "      <td>0000003C572F4897B02ED634986A2FC0</td>\n",
       "      <td>2019-10-28 12:00:00+00:00</td>\n",
       "      <td>746</td>\n",
       "      <td>9FA5D424C04C4A1FAAE1F13CB48CEF3A</td>\n",
       "      <td>A145D4F25EF1453A82DA85E11660F875</td>\n",
       "      <td>0.078595</td>\n",
       "    </tr>\n",
       "    <tr>\n",
       "      <th>1</th>\n",
       "      <td>0000038959814291A01F22AD21B450E5</td>\n",
       "      <td>2019-10-08 12:00:00+00:00</td>\n",
       "      <td>974</td>\n",
       "      <td>94FFCF90FA3346FDB026D38C819499D8</td>\n",
       "      <td>637490CBEB4E4921BBE486F32A6ACC9D</td>\n",
       "      <td>0.049035</td>\n",
       "    </tr>\n",
       "    <tr>\n",
       "      <th>2</th>\n",
       "      <td>0000097D875B42A0B41993B7F4978057</td>\n",
       "      <td>2019-11-07 12:00:00+00:00</td>\n",
       "      <td>48</td>\n",
       "      <td>905885A62EE2469DB921591055E69076</td>\n",
       "      <td>C8A8AB4E56474B8C8904462CE93B9783</td>\n",
       "      <td>0.018845</td>\n",
       "    </tr>\n",
       "    <tr>\n",
       "      <th>3</th>\n",
       "      <td>000009C5DD7F4F67BD90F29AC8FAD12C</td>\n",
       "      <td>2019-10-14 12:00:00+00:00</td>\n",
       "      <td>1</td>\n",
       "      <td>NaN</td>\n",
       "      <td>16BF765B2C51417780F3C9EB0F597EA4</td>\n",
       "      <td>0.018031</td>\n",
       "    </tr>\n",
       "    <tr>\n",
       "      <th>4</th>\n",
       "      <td>00000AE070FE4638A9D8F393A0B1A5B9</td>\n",
       "      <td>2019-11-10 12:00:00+00:00</td>\n",
       "      <td>1483</td>\n",
       "      <td>2817E3D23C0544309B9C142E710D3F56</td>\n",
       "      <td>986064C267C642C5B02A2DA0646E9D9B</td>\n",
       "      <td>0.121183</td>\n",
       "    </tr>\n",
       "  </tbody>\n",
       "</table>\n",
       "</div>"
      ],
      "text/plain": [
       "                                _id                      date  retweets  \\\n",
       "0  0000003C572F4897B02ED634986A2FC0 2019-10-28 12:00:00+00:00       746   \n",
       "1  0000038959814291A01F22AD21B450E5 2019-10-08 12:00:00+00:00       974   \n",
       "2  0000097D875B42A0B41993B7F4978057 2019-11-07 12:00:00+00:00        48   \n",
       "3  000009C5DD7F4F67BD90F29AC8FAD12C 2019-10-14 12:00:00+00:00         1   \n",
       "4  00000AE070FE4638A9D8F393A0B1A5B9 2019-11-10 12:00:00+00:00      1483   \n",
       "\n",
       "                           tweet_id                           user_id  \\\n",
       "0  9FA5D424C04C4A1FAAE1F13CB48CEF3A  A145D4F25EF1453A82DA85E11660F875   \n",
       "1  94FFCF90FA3346FDB026D38C819499D8  637490CBEB4E4921BBE486F32A6ACC9D   \n",
       "2  905885A62EE2469DB921591055E69076  C8A8AB4E56474B8C8904462CE93B9783   \n",
       "3                               NaN  16BF765B2C51417780F3C9EB0F597EA4   \n",
       "4  2817E3D23C0544309B9C142E710D3F56  986064C267C642C5B02A2DA0646E9D9B   \n",
       "\n",
       "        url  \n",
       "0  0.078595  \n",
       "1  0.049035  \n",
       "2  0.018845  \n",
       "3  0.018031  \n",
       "4  0.121183  "
      ]
     },
     "metadata": {},
     "output_type": "display_data"
    },
    {
     "name": "stdout",
     "output_type": "stream",
     "text": [
      "Preparing DB operations... "
     ]
    },
    {
     "data": {
      "text/html": [
       "\n",
       "<style>\n",
       "    /* Turns off some styling */\n",
       "    progress {\n",
       "        /* gets rid of default border in Firefox and Opera. */\n",
       "        border: none;\n",
       "        /* Needs to be in here for Safari polyfill so background images work as expected. */\n",
       "        background-size: auto;\n",
       "    }\n",
       "    progress:not([value]), progress:not([value])::-webkit-progress-bar {\n",
       "        background: repeating-linear-gradient(45deg, #7e7e7e, #7e7e7e 10px, #5c5c5c 10px, #5c5c5c 20px);\n",
       "    }\n",
       "    .progress-bar-interrupted, .progress-bar-interrupted::-webkit-progress-bar {\n",
       "        background: #F44336;\n",
       "    }\n",
       "</style>\n"
      ],
      "text/plain": [
       "<IPython.core.display.HTML object>"
      ]
     },
     "metadata": {},
     "output_type": "display_data"
    },
    {
     "data": {
      "text/html": [
       "\n",
       "    <div>\n",
       "      <progress value='582665' class='' max='582665' style='width:300px; height:20px; vertical-align: middle;'></progress>\n",
       "      100.00% [582665/582665 00:06&lt;00:00]\n",
       "    </div>\n",
       "    "
      ],
      "text/plain": [
       "<IPython.core.display.HTML object>"
      ]
     },
     "metadata": {},
     "output_type": "display_data"
    },
    {
     "name": "stdout",
     "output_type": "stream",
     "text": [
      "M:        0  I:    20001  U:        0\n",
      "M:        0  I:    20001  U:        0\n",
      "M:        0  I:    20001  U:        0\n",
      "M:        0  I:    20001  U:        0\n",
      "M:        0  I:    20001  U:        0\n",
      "M:        0  I:    20001  U:        0\n",
      "M:        0  I:    20001  U:        0\n",
      "M:        0  I:    20001  U:        0\n",
      "M:        0  I:    20001  U:        0\n",
      "M:        0  I:    20001  U:        0\n",
      "M:        0  I:    20001  U:        0\n",
      "M:        0  I:    20001  U:        0\n",
      "M:        0  I:    20001  U:        0\n",
      "M:        0  I:    20001  U:        0\n",
      "M:        0  I:    20001  U:        0\n",
      "M:        0  I:    20001  U:        0\n",
      "M:        0  I:    20001  U:        0\n",
      "M:        0  I:    20001  U:        0\n",
      "M:        0  I:    20001  U:        0\n",
      "M:        0  I:    20001  U:        0\n",
      "M:        0  I:    20001  U:        0\n",
      "M:        0  I:    20001  U:        0\n",
      "M:        0  I:    20001  U:        0\n",
      "M:        0  I:    20001  U:        0\n",
      "M:        0  I:    20001  U:        0\n",
      "M:        0  I:    20001  U:        0\n",
      "M:        0  I:    20001  U:        0\n",
      "M:        0  I:    20001  U:        0\n",
      "M:        0  I:    20001  U:        0\n",
      "M:        0  I:     2636  U:        0\n",
      "CPU times: user 9.63 s, sys: 269 ms, total: 9.9 s\n",
      "Wall time: 12.2 s\n"
     ]
    }
   ],
   "source": [
    "%%time\n",
    "df_tweets = read_tweets(DATA_DIR+'dataset/quarter_tweets.csv')\n",
    "display(df_tweets.head(5))\n",
    "#display(df_tweets)\n",
    "collection = db['tweets']\n",
    "collection.delete_many({})\n",
    "df_to_mongodb(df_tweets, collection)\n",
    "#db.collection.insert_many(df_tweets.to_dict('records'))"
   ]
  },
  {
   "cell_type": "markdown",
   "metadata": {},
   "source": []
  },
  {
   "cell_type": "markdown",
   "metadata": {},
   "source": [
    "### Users collection"
   ]
  },
  {
   "cell_type": "code",
   "execution_count": 130,
   "metadata": {},
   "outputs": [],
   "source": [
    "users_columns = {\n",
    "    # users\n",
    "    0: str,\n",
    "    1: str\n",
    "}\n",
    "\n",
    "def read_users(filename):\n",
    "    \"\"\"Parses the users CSV returning a DataFrame.\n",
    "    \n",
    "    Keyword arguments:\n",
    "    filename -- name of the CSV\n",
    "    \"\"\"\n",
    "    print(\"Processing\", ntpath.basename(filename), end=\"\\t\")\n",
    "    # df = pd.read_csv(filename, \n",
    "    #                  low_memory=False, \n",
    "    #                  keep_default_na=True, \n",
    "    #                  dtype=users_columns, \n",
    "    #                  names=['_id', 'username'])\n",
    "\n",
    "    df = pd.read_csv(filename, \n",
    "                     header=0,\n",
    "                     sep=',',\n",
    "                     low_memory=False, \n",
    "                     keep_default_na=True, \n",
    "                     dtype=tweets_columns, \n",
    "                     usecols=[0,9],\n",
    "                     names=['_id', 'username'])\n",
    "\n",
    "    print(\"CSV\", end=\" \")\n",
    "\n",
    "    # Make index as UUID\n",
    "    #df['_id'] = df['_id'].apply(make_objid)\n",
    "    print(\"OK\", end=\"; \")\n",
    "    print(\"#:\", len(df), end=\" entries; \")\n",
    "    return df"
   ]
  },
  {
   "cell_type": "code",
   "execution_count": 133,
   "metadata": {},
   "outputs": [
    {
     "name": "stdout",
     "output_type": "stream",
     "text": [
      "Processing quarter_tweets.csv\t"
     ]
    },
    {
     "name": "stdout",
     "output_type": "stream",
     "text": [
      "CSV OK; #: 582665 entries; "
     ]
    },
    {
     "data": {
      "text/html": [
       "<div>\n",
       "<style scoped>\n",
       "    .dataframe tbody tr th:only-of-type {\n",
       "        vertical-align: middle;\n",
       "    }\n",
       "\n",
       "    .dataframe tbody tr th {\n",
       "        vertical-align: top;\n",
       "    }\n",
       "\n",
       "    .dataframe thead th {\n",
       "        text-align: right;\n",
       "    }\n",
       "</style>\n",
       "<table border=\"1\" class=\"dataframe\">\n",
       "  <thead>\n",
       "    <tr style=\"text-align: right;\">\n",
       "      <th></th>\n",
       "      <th>_id</th>\n",
       "      <th>username</th>\n",
       "    </tr>\n",
       "  </thead>\n",
       "  <tbody>\n",
       "    <tr>\n",
       "      <th>0</th>\n",
       "      <td>0000003C572F4897B02ED634986A2FC0</td>\n",
       "      <td>A145D4F25EF1453A82DA85E11660F875</td>\n",
       "    </tr>\n",
       "    <tr>\n",
       "      <th>1</th>\n",
       "      <td>0000038959814291A01F22AD21B450E5</td>\n",
       "      <td>637490CBEB4E4921BBE486F32A6ACC9D</td>\n",
       "    </tr>\n",
       "    <tr>\n",
       "      <th>2</th>\n",
       "      <td>0000097D875B42A0B41993B7F4978057</td>\n",
       "      <td>C8A8AB4E56474B8C8904462CE93B9783</td>\n",
       "    </tr>\n",
       "    <tr>\n",
       "      <th>3</th>\n",
       "      <td>000009C5DD7F4F67BD90F29AC8FAD12C</td>\n",
       "      <td>16BF765B2C51417780F3C9EB0F597EA4</td>\n",
       "    </tr>\n",
       "    <tr>\n",
       "      <th>4</th>\n",
       "      <td>00000AE070FE4638A9D8F393A0B1A5B9</td>\n",
       "      <td>986064C267C642C5B02A2DA0646E9D9B</td>\n",
       "    </tr>\n",
       "  </tbody>\n",
       "</table>\n",
       "</div>"
      ],
      "text/plain": [
       "                                _id                          username\n",
       "0  0000003C572F4897B02ED634986A2FC0  A145D4F25EF1453A82DA85E11660F875\n",
       "1  0000038959814291A01F22AD21B450E5  637490CBEB4E4921BBE486F32A6ACC9D\n",
       "2  0000097D875B42A0B41993B7F4978057  C8A8AB4E56474B8C8904462CE93B9783\n",
       "3  000009C5DD7F4F67BD90F29AC8FAD12C  16BF765B2C51417780F3C9EB0F597EA4\n",
       "4  00000AE070FE4638A9D8F393A0B1A5B9  986064C267C642C5B02A2DA0646E9D9B"
      ]
     },
     "metadata": {},
     "output_type": "display_data"
    },
    {
     "name": "stdout",
     "output_type": "stream",
     "text": [
      "Preparing DB operations... "
     ]
    },
    {
     "data": {
      "text/html": [
       "\n",
       "<style>\n",
       "    /* Turns off some styling */\n",
       "    progress {\n",
       "        /* gets rid of default border in Firefox and Opera. */\n",
       "        border: none;\n",
       "        /* Needs to be in here for Safari polyfill so background images work as expected. */\n",
       "        background-size: auto;\n",
       "    }\n",
       "    progress:not([value]), progress:not([value])::-webkit-progress-bar {\n",
       "        background: repeating-linear-gradient(45deg, #7e7e7e, #7e7e7e 10px, #5c5c5c 10px, #5c5c5c 20px);\n",
       "    }\n",
       "    .progress-bar-interrupted, .progress-bar-interrupted::-webkit-progress-bar {\n",
       "        background: #F44336;\n",
       "    }\n",
       "</style>\n"
      ],
      "text/plain": [
       "<IPython.core.display.HTML object>"
      ]
     },
     "metadata": {},
     "output_type": "display_data"
    },
    {
     "data": {
      "text/html": [
       "\n",
       "    <div>\n",
       "      <progress value='582665' class='' max='582665' style='width:300px; height:20px; vertical-align: middle;'></progress>\n",
       "      100.00% [582665/582665 00:03&lt;00:00]\n",
       "    </div>\n",
       "    "
      ],
      "text/plain": [
       "<IPython.core.display.HTML object>"
      ]
     },
     "metadata": {},
     "output_type": "display_data"
    },
    {
     "name": "stdout",
     "output_type": "stream",
     "text": [
      "M:        0  I:    20001  U:        0\n",
      "M:        0  I:    20001  U:        0\n",
      "M:        0  I:    20001  U:        0\n",
      "M:        0  I:    20001  U:        0\n",
      "M:        0  I:    20001  U:        0\n",
      "M:        0  I:    20001  U:        0\n",
      "M:        0  I:    20001  U:        0\n",
      "M:        0  I:    20001  U:        0\n",
      "M:        0  I:    20001  U:        0\n",
      "M:        0  I:    20001  U:        0\n",
      "M:        0  I:    20001  U:        0\n",
      "M:        0  I:    20001  U:        0\n",
      "M:        0  I:    20001  U:        0\n",
      "M:        0  I:    20001  U:        0\n",
      "M:        0  I:    20001  U:        0\n",
      "M:        0  I:    20001  U:        0\n",
      "M:        0  I:    20001  U:        0\n",
      "M:        0  I:    20001  U:        0\n",
      "M:        0  I:    20001  U:        0\n",
      "M:        0  I:    20001  U:        0\n",
      "M:        0  I:    20001  U:        0\n",
      "M:        0  I:    20001  U:        0\n",
      "M:        0  I:    20001  U:        0\n",
      "M:        0  I:    20001  U:        0\n",
      "M:        0  I:    20001  U:        0\n",
      "M:        0  I:    20001  U:        0\n",
      "M:        0  I:    20001  U:        0\n",
      "M:        0  I:    20001  U:        0\n",
      "M:        0  I:    20001  U:        0\n",
      "M:        0  I:     2636  U:        0\n",
      "CPU times: user 4.23 s, sys: 244 ms, total: 4.47 s\n",
      "Wall time: 6.42 s\n"
     ]
    }
   ],
   "source": [
    "%%time\n",
    "df_users = read_users(DATA_DIR+'dataset/quarter_tweets.csv')\n",
    "display(df_users.head(5))\n",
    "collection = db['users']\n",
    "collection.delete_many({})\n",
    "df_to_mongodb(df_users, collection)"
   ]
  },
  {
   "cell_type": "markdown",
   "metadata": {},
   "source": [
    "### Hashtags collection"
   ]
  },
  {
   "cell_type": "code",
   "execution_count": 134,
   "metadata": {},
   "outputs": [],
   "source": [
    "hashtags_columns = {\n",
    "    # hashtags\n",
    "    0: str,\n",
    "    1: str\n",
    "}\n",
    "\n",
    "def read_hashtags(filename):\n",
    "    \"\"\"Parses the hashtags CSV returning a DataFrame.\n",
    "    \n",
    "    Keyword arguments:\n",
    "    filename -- name of the CSV\n",
    "    \"\"\"\n",
    "    print(\"Processing\", ntpath.basename(filename), end=\"\\t\")\n",
    "    # df = pd.read_csv(filename, \n",
    "    #                  low_memory=False, \n",
    "    #                  keep_default_na=True, \n",
    "    #                  dtype=hashtags_columns, \n",
    "    #                  names=['tweet_id', 'hashtag'])\n",
    "    df = pd.read_csv(filename, \n",
    "                     header=0,\n",
    "                     sep=',',\n",
    "                     low_memory=False, \n",
    "                     keep_default_na=True, \n",
    "                     dtype=tweets_columns, \n",
    "                     usecols=[6,8],\n",
    "                     names=['tweet_id', 'hashtag'])\n",
    "    print(\"CSV\", end=\" \")\n",
    "\n",
    "    # Make index\n",
    "    #df['tweet_id'] = df['tweet_id'].apply(make_uuid)\n",
    "    print(\"OK\", end=\"; \")\n",
    "    print(\"#:\", len(df), end=\" entries; \")\n",
    "    return df"
   ]
  },
  {
   "cell_type": "code",
   "execution_count": 135,
   "metadata": {},
   "outputs": [
    {
     "name": "stdout",
     "output_type": "stream",
     "text": [
      "Processing quarter_tweets.csv\tCSV OK; #: 582665 entries; "
     ]
    },
    {
     "data": {
      "text/html": [
       "<div>\n",
       "<style scoped>\n",
       "    .dataframe tbody tr th:only-of-type {\n",
       "        vertical-align: middle;\n",
       "    }\n",
       "\n",
       "    .dataframe tbody tr th {\n",
       "        vertical-align: top;\n",
       "    }\n",
       "\n",
       "    .dataframe thead th {\n",
       "        text-align: right;\n",
       "    }\n",
       "</style>\n",
       "<table border=\"1\" class=\"dataframe\">\n",
       "  <thead>\n",
       "    <tr style=\"text-align: right;\">\n",
       "      <th></th>\n",
       "      <th>tweet_id</th>\n",
       "      <th>hashtag</th>\n",
       "    </tr>\n",
       "  </thead>\n",
       "  <tbody>\n",
       "    <tr>\n",
       "      <th>0</th>\n",
       "      <td>9FA5D424C04C4A1FAAE1F13CB48CEF3A</td>\n",
       "      <td>retweet</td>\n",
       "    </tr>\n",
       "    <tr>\n",
       "      <th>1</th>\n",
       "      <td>94FFCF90FA3346FDB026D38C819499D8</td>\n",
       "      <td>retweet</td>\n",
       "    </tr>\n",
       "    <tr>\n",
       "      <th>2</th>\n",
       "      <td>905885A62EE2469DB921591055E69076</td>\n",
       "      <td>retweet</td>\n",
       "    </tr>\n",
       "    <tr>\n",
       "      <th>3</th>\n",
       "      <td>NaN</td>\n",
       "      <td>original</td>\n",
       "    </tr>\n",
       "    <tr>\n",
       "      <th>4</th>\n",
       "      <td>2817E3D23C0544309B9C142E710D3F56</td>\n",
       "      <td>retweet</td>\n",
       "    </tr>\n",
       "  </tbody>\n",
       "</table>\n",
       "</div>"
      ],
      "text/plain": [
       "                           tweet_id   hashtag\n",
       "0  9FA5D424C04C4A1FAAE1F13CB48CEF3A   retweet\n",
       "1  94FFCF90FA3346FDB026D38C819499D8   retweet\n",
       "2  905885A62EE2469DB921591055E69076   retweet\n",
       "3                               NaN  original\n",
       "4  2817E3D23C0544309B9C142E710D3F56   retweet"
      ]
     },
     "metadata": {},
     "output_type": "display_data"
    },
    {
     "name": "stdout",
     "output_type": "stream",
     "text": [
      "Preparing DB operations... "
     ]
    },
    {
     "data": {
      "text/html": [
       "\n",
       "<style>\n",
       "    /* Turns off some styling */\n",
       "    progress {\n",
       "        /* gets rid of default border in Firefox and Opera. */\n",
       "        border: none;\n",
       "        /* Needs to be in here for Safari polyfill so background images work as expected. */\n",
       "        background-size: auto;\n",
       "    }\n",
       "    progress:not([value]), progress:not([value])::-webkit-progress-bar {\n",
       "        background: repeating-linear-gradient(45deg, #7e7e7e, #7e7e7e 10px, #5c5c5c 10px, #5c5c5c 20px);\n",
       "    }\n",
       "    .progress-bar-interrupted, .progress-bar-interrupted::-webkit-progress-bar {\n",
       "        background: #F44336;\n",
       "    }\n",
       "</style>\n"
      ],
      "text/plain": [
       "<IPython.core.display.HTML object>"
      ]
     },
     "metadata": {},
     "output_type": "display_data"
    },
    {
     "data": {
      "text/html": [
       "\n",
       "    <div>\n",
       "      <progress value='582665' class='' max='582665' style='width:300px; height:20px; vertical-align: middle;'></progress>\n",
       "      100.00% [582665/582665 00:06&lt;00:00]\n",
       "    </div>\n",
       "    "
      ],
      "text/plain": [
       "<IPython.core.display.HTML object>"
      ]
     },
     "metadata": {},
     "output_type": "display_data"
    },
    {
     "name": "stdout",
     "output_type": "stream",
     "text": [
      "M:        0  I:    20001  U:        0\n",
      "M:        0  I:    20001  U:        0\n",
      "M:        0  I:    20001  U:        0\n",
      "M:        0  I:    20001  U:        0\n",
      "M:        0  I:    20001  U:        0\n",
      "M:        0  I:    20001  U:        0\n",
      "M:        0  I:    20001  U:        0\n",
      "M:        0  I:    20001  U:        0\n",
      "M:        0  I:    20001  U:        0\n",
      "M:        0  I:    20001  U:        0\n",
      "M:        0  I:    20001  U:        0\n",
      "M:        0  I:    20001  U:        0\n",
      "M:        0  I:    20001  U:        0\n",
      "M:        0  I:    20001  U:        0\n",
      "M:        0  I:    20001  U:        0\n",
      "M:        0  I:    20001  U:        0\n",
      "M:        0  I:    20001  U:        0\n",
      "M:        0  I:    20001  U:        0\n",
      "M:        0  I:    20001  U:        0\n",
      "M:        0  I:    20001  U:        0\n",
      "M:        0  I:    20001  U:        0\n",
      "M:        0  I:    20001  U:        0\n",
      "M:        0  I:    20001  U:        0\n",
      "M:        0  I:    20001  U:        0\n",
      "M:        0  I:    20001  U:        0\n",
      "M:        0  I:    20001  U:        0\n",
      "M:        0  I:    20001  U:        0\n",
      "M:        0  I:    20001  U:        0\n",
      "M:        0  I:    20001  U:        0\n",
      "M:        0  I:     2636  U:        0\n",
      "CPU times: user 6.13 s, sys: 300 ms, total: 6.43 s\n",
      "Wall time: 8.15 s\n"
     ]
    }
   ],
   "source": [
    "%%time\n",
    "df_hashtags = read_hashtags(DATA_DIR+'dataset/quarter_tweets.csv')\n",
    "display(df_hashtags.head(5))\n",
    "collection = db['hashtags']\n",
    "collection.delete_many({})\n",
    "df_to_mongodb(df_hashtags, collection)"
   ]
  },
  {
   "cell_type": "markdown",
   "metadata": {},
   "source": [
    "### Mentions collection"
   ]
  },
  {
   "cell_type": "code",
   "execution_count": 136,
   "metadata": {},
   "outputs": [],
   "source": [
    "mentions_columns = {\n",
    "    # hashtags\n",
    "    0: str,\n",
    "    1: str\n",
    "}\n",
    "\n",
    "def read_mentions(filename):\n",
    "    \"\"\"Parses the mentions CSV returning a DataFrame.\n",
    "    \n",
    "    Keyword arguments:\n",
    "    filename -- name of the CSV\n",
    "    \"\"\"\n",
    "    print(\"Processing\", ntpath.basename(filename), end=\"\\t\")\n",
    "    # df = pd.read_csv(filename, \n",
    "    #                  low_memory=False, \n",
    "    #                  keep_default_na=True, \n",
    "    #                  dtype=mentions_columns, \n",
    "    #                  names=['user_id','tweet_id'])\n",
    "    df = pd.read_csv(filename, \n",
    "                     header=0,\n",
    "                     sep=',',\n",
    "                     low_memory=False, \n",
    "                     keep_default_na=True, \n",
    "                     dtype=tweets_columns, \n",
    "                     usecols=[9,7],\n",
    "                     names=['user_id', 'tweet_id'])\n",
    "    print(\"CSV\", end=\" \")\n",
    "\n",
    "    # Make indexes\n",
    "    #df['tweet_id'] = df['tweet_id'].apply(make_uuid)\n",
    "    #df['user_id'] = df['user_id'].apply(make_objid)\n",
    "\n",
    "    print(\"OK\", end=\"; \")\n",
    "    print(\"#:\", len(df), end=\" entries; \")\n",
    "    return df"
   ]
  },
  {
   "cell_type": "code",
   "execution_count": 137,
   "metadata": {},
   "outputs": [
    {
     "name": "stdout",
     "output_type": "stream",
     "text": [
      "Processing quarter_tweets.csv\tCSV OK; #: 582665 entries; "
     ]
    },
    {
     "data": {
      "text/html": [
       "<div>\n",
       "<style scoped>\n",
       "    .dataframe tbody tr th:only-of-type {\n",
       "        vertical-align: middle;\n",
       "    }\n",
       "\n",
       "    .dataframe tbody tr th {\n",
       "        vertical-align: top;\n",
       "    }\n",
       "\n",
       "    .dataframe thead th {\n",
       "        text-align: right;\n",
       "    }\n",
       "</style>\n",
       "<table border=\"1\" class=\"dataframe\">\n",
       "  <thead>\n",
       "    <tr style=\"text-align: right;\">\n",
       "      <th></th>\n",
       "      <th>user_id</th>\n",
       "      <th>tweet_id</th>\n",
       "    </tr>\n",
       "  </thead>\n",
       "  <tbody>\n",
       "    <tr>\n",
       "      <th>0</th>\n",
       "      <td>81CF6091B67C4FED85DAD0602F27CE2C</td>\n",
       "      <td>A145D4F25EF1453A82DA85E11660F875</td>\n",
       "    </tr>\n",
       "    <tr>\n",
       "      <th>1</th>\n",
       "      <td>9D37C222FA614DCAB07D282769CFBAF2</td>\n",
       "      <td>637490CBEB4E4921BBE486F32A6ACC9D</td>\n",
       "    </tr>\n",
       "    <tr>\n",
       "      <th>2</th>\n",
       "      <td>120464FCFBD347C094721218B577062F</td>\n",
       "      <td>C8A8AB4E56474B8C8904462CE93B9783</td>\n",
       "    </tr>\n",
       "    <tr>\n",
       "      <th>3</th>\n",
       "      <td>NaN</td>\n",
       "      <td>16BF765B2C51417780F3C9EB0F597EA4</td>\n",
       "    </tr>\n",
       "    <tr>\n",
       "      <th>4</th>\n",
       "      <td>AF38ED69FC164512B47720DF3C7A74CE</td>\n",
       "      <td>986064C267C642C5B02A2DA0646E9D9B</td>\n",
       "    </tr>\n",
       "  </tbody>\n",
       "</table>\n",
       "</div>"
      ],
      "text/plain": [
       "                            user_id                          tweet_id\n",
       "0  81CF6091B67C4FED85DAD0602F27CE2C  A145D4F25EF1453A82DA85E11660F875\n",
       "1  9D37C222FA614DCAB07D282769CFBAF2  637490CBEB4E4921BBE486F32A6ACC9D\n",
       "2  120464FCFBD347C094721218B577062F  C8A8AB4E56474B8C8904462CE93B9783\n",
       "3                               NaN  16BF765B2C51417780F3C9EB0F597EA4\n",
       "4  AF38ED69FC164512B47720DF3C7A74CE  986064C267C642C5B02A2DA0646E9D9B"
      ]
     },
     "metadata": {},
     "output_type": "display_data"
    },
    {
     "name": "stdout",
     "output_type": "stream",
     "text": [
      "Preparing DB operations... "
     ]
    },
    {
     "data": {
      "text/html": [
       "\n",
       "<style>\n",
       "    /* Turns off some styling */\n",
       "    progress {\n",
       "        /* gets rid of default border in Firefox and Opera. */\n",
       "        border: none;\n",
       "        /* Needs to be in here for Safari polyfill so background images work as expected. */\n",
       "        background-size: auto;\n",
       "    }\n",
       "    progress:not([value]), progress:not([value])::-webkit-progress-bar {\n",
       "        background: repeating-linear-gradient(45deg, #7e7e7e, #7e7e7e 10px, #5c5c5c 10px, #5c5c5c 20px);\n",
       "    }\n",
       "    .progress-bar-interrupted, .progress-bar-interrupted::-webkit-progress-bar {\n",
       "        background: #F44336;\n",
       "    }\n",
       "</style>\n"
      ],
      "text/plain": [
       "<IPython.core.display.HTML object>"
      ]
     },
     "metadata": {},
     "output_type": "display_data"
    },
    {
     "data": {
      "text/html": [
       "\n",
       "    <div>\n",
       "      <progress value='582665' class='' max='582665' style='width:300px; height:20px; vertical-align: middle;'></progress>\n",
       "      100.00% [582665/582665 00:06&lt;00:00]\n",
       "    </div>\n",
       "    "
      ],
      "text/plain": [
       "<IPython.core.display.HTML object>"
      ]
     },
     "metadata": {},
     "output_type": "display_data"
    },
    {
     "name": "stdout",
     "output_type": "stream",
     "text": [
      "M:        0  I:    20001  U:        0\n",
      "M:        0  I:    20001  U:        0\n",
      "M:        0  I:    20001  U:        0\n",
      "M:        0  I:    20001  U:        0\n",
      "M:        0  I:    20001  U:        0\n",
      "M:        0  I:    20001  U:        0\n",
      "M:        0  I:    20001  U:        0\n",
      "M:        0  I:    20001  U:        0\n",
      "M:        0  I:    20001  U:        0\n",
      "M:        0  I:    20001  U:        0\n",
      "M:        0  I:    20001  U:        0\n",
      "M:        0  I:    20001  U:        0\n",
      "M:        0  I:    20001  U:        0\n",
      "M:        0  I:    20001  U:        0\n",
      "M:        0  I:    20001  U:        0\n",
      "M:        0  I:    20001  U:        0\n",
      "M:        0  I:    20001  U:        0\n",
      "M:        0  I:    20001  U:        0\n",
      "M:        0  I:    20001  U:        0\n",
      "M:        0  I:    20001  U:        0\n",
      "M:        0  I:    20001  U:        0\n",
      "M:        0  I:    20001  U:        0\n",
      "M:        0  I:    20001  U:        0\n",
      "M:        0  I:    20001  U:        0\n",
      "M:        0  I:    20001  U:        0\n",
      "M:        0  I:    20001  U:        0\n",
      "M:        0  I:    20001  U:        0\n",
      "M:        0  I:    20001  U:        0\n",
      "M:        0  I:    20001  U:        0\n",
      "M:        0  I:     2636  U:        0\n",
      "CPU times: user 6.29 s, sys: 343 ms, total: 6.63 s\n",
      "Wall time: 8.58 s\n"
     ]
    }
   ],
   "source": [
    "%%time\n",
    "df_mentions = read_mentions(DATA_DIR+'dataset/quarter_tweets.csv')\n",
    "display(df_mentions.head(5))\n",
    "collection = db['mentions']\n",
    "collection.delete_many({})\n",
    "df_to_mongodb(df_mentions, collection)"
   ]
  },
  {
   "cell_type": "markdown",
   "metadata": {},
   "source": [
    "### Retweets collection"
   ]
  },
  {
   "cell_type": "code",
   "execution_count": 138,
   "metadata": {},
   "outputs": [],
   "source": [
    "retweets_columns = {\n",
    "    0: str,\n",
    "    1: str,\n",
    "    2: str,\n",
    "    3: str\n",
    "}\n",
    "\n",
    "def read_retweets(filename):\n",
    "    \"\"\"Parses the retweets CSV returning a DataFrame.\n",
    "    \n",
    "    Keyword arguments:\n",
    "    filename -- name of the CSV\n",
    "    \"\"\"\n",
    "    print(\"Processing\", ntpath.basename(filename), end=\"\\t\")\n",
    "    # df = pd.read_csv(filename, \n",
    "    #                  low_memory=False, \n",
    "    #                  keep_default_na=True, \n",
    "    #                  dtype=retweets_columns, \n",
    "    #                  names=['_id', 'tweet_id', 'user_id', 'date']\n",
    "    #                 )\n",
    "    \n",
    "    df = pd.read_csv(filename, \n",
    "                     header=0,\n",
    "                     sep=',',\n",
    "                     low_memory=False, \n",
    "                     keep_default_na=True, \n",
    "                     dtype=tweets_columns, \n",
    "                     usecols=[0,1,6,9],\n",
    "                     names=['_id', 'date','tweet_id', 'user_id'])\n",
    "    \n",
    "    print(\"CSV\", end=\" \")\n",
    "\n",
    "    # Make index\n",
    "    #df['_id'] = df['_id'].apply(make_objid)\n",
    "    #df['tweet_id'] = df['tweet_id'].apply(make_objid)\n",
    "    #df['user_id'] = df['user_id'].apply(make_objid)\n",
    "    \n",
    "    df['date'] = pd.to_datetime(df['date'], infer_datetime_format=False, format=\"%Y-%m-%d %H:%M:%S\")\n",
    "\n",
    "\n",
    "    print(\"OK\", end=\"; \")\n",
    "    print(\"#:\", len(df), end=\" entries; \")\n",
    "    return df"
   ]
  },
  {
   "cell_type": "code",
   "execution_count": 139,
   "metadata": {},
   "outputs": [
    {
     "name": "stdout",
     "output_type": "stream",
     "text": [
      "Processing quarter_tweets.csv\tCSV OK; #: 582665 entries; "
     ]
    },
    {
     "data": {
      "text/html": [
       "<div>\n",
       "<style scoped>\n",
       "    .dataframe tbody tr th:only-of-type {\n",
       "        vertical-align: middle;\n",
       "    }\n",
       "\n",
       "    .dataframe tbody tr th {\n",
       "        vertical-align: top;\n",
       "    }\n",
       "\n",
       "    .dataframe thead th {\n",
       "        text-align: right;\n",
       "    }\n",
       "</style>\n",
       "<table border=\"1\" class=\"dataframe\">\n",
       "  <thead>\n",
       "    <tr style=\"text-align: right;\">\n",
       "      <th></th>\n",
       "      <th>_id</th>\n",
       "      <th>date</th>\n",
       "      <th>tweet_id</th>\n",
       "      <th>user_id</th>\n",
       "    </tr>\n",
       "  </thead>\n",
       "  <tbody>\n",
       "    <tr>\n",
       "      <th>0</th>\n",
       "      <td>0000003C572F4897B02ED634986A2FC0</td>\n",
       "      <td>2019-10-28 12:00:00+00:00</td>\n",
       "      <td>9FA5D424C04C4A1FAAE1F13CB48CEF3A</td>\n",
       "      <td>A145D4F25EF1453A82DA85E11660F875</td>\n",
       "    </tr>\n",
       "    <tr>\n",
       "      <th>1</th>\n",
       "      <td>0000038959814291A01F22AD21B450E5</td>\n",
       "      <td>2019-10-08 12:00:00+00:00</td>\n",
       "      <td>94FFCF90FA3346FDB026D38C819499D8</td>\n",
       "      <td>637490CBEB4E4921BBE486F32A6ACC9D</td>\n",
       "    </tr>\n",
       "    <tr>\n",
       "      <th>2</th>\n",
       "      <td>0000097D875B42A0B41993B7F4978057</td>\n",
       "      <td>2019-11-07 12:00:00+00:00</td>\n",
       "      <td>905885A62EE2469DB921591055E69076</td>\n",
       "      <td>C8A8AB4E56474B8C8904462CE93B9783</td>\n",
       "    </tr>\n",
       "    <tr>\n",
       "      <th>3</th>\n",
       "      <td>000009C5DD7F4F67BD90F29AC8FAD12C</td>\n",
       "      <td>2019-10-14 12:00:00+00:00</td>\n",
       "      <td>NaN</td>\n",
       "      <td>16BF765B2C51417780F3C9EB0F597EA4</td>\n",
       "    </tr>\n",
       "    <tr>\n",
       "      <th>4</th>\n",
       "      <td>00000AE070FE4638A9D8F393A0B1A5B9</td>\n",
       "      <td>2019-11-10 12:00:00+00:00</td>\n",
       "      <td>2817E3D23C0544309B9C142E710D3F56</td>\n",
       "      <td>986064C267C642C5B02A2DA0646E9D9B</td>\n",
       "    </tr>\n",
       "  </tbody>\n",
       "</table>\n",
       "</div>"
      ],
      "text/plain": [
       "                                _id                      date  \\\n",
       "0  0000003C572F4897B02ED634986A2FC0 2019-10-28 12:00:00+00:00   \n",
       "1  0000038959814291A01F22AD21B450E5 2019-10-08 12:00:00+00:00   \n",
       "2  0000097D875B42A0B41993B7F4978057 2019-11-07 12:00:00+00:00   \n",
       "3  000009C5DD7F4F67BD90F29AC8FAD12C 2019-10-14 12:00:00+00:00   \n",
       "4  00000AE070FE4638A9D8F393A0B1A5B9 2019-11-10 12:00:00+00:00   \n",
       "\n",
       "                           tweet_id                           user_id  \n",
       "0  9FA5D424C04C4A1FAAE1F13CB48CEF3A  A145D4F25EF1453A82DA85E11660F875  \n",
       "1  94FFCF90FA3346FDB026D38C819499D8  637490CBEB4E4921BBE486F32A6ACC9D  \n",
       "2  905885A62EE2469DB921591055E69076  C8A8AB4E56474B8C8904462CE93B9783  \n",
       "3                               NaN  16BF765B2C51417780F3C9EB0F597EA4  \n",
       "4  2817E3D23C0544309B9C142E710D3F56  986064C267C642C5B02A2DA0646E9D9B  "
      ]
     },
     "metadata": {},
     "output_type": "display_data"
    },
    {
     "name": "stdout",
     "output_type": "stream",
     "text": [
      "Preparing DB operations... "
     ]
    },
    {
     "data": {
      "text/html": [
       "\n",
       "<style>\n",
       "    /* Turns off some styling */\n",
       "    progress {\n",
       "        /* gets rid of default border in Firefox and Opera. */\n",
       "        border: none;\n",
       "        /* Needs to be in here for Safari polyfill so background images work as expected. */\n",
       "        background-size: auto;\n",
       "    }\n",
       "    progress:not([value]), progress:not([value])::-webkit-progress-bar {\n",
       "        background: repeating-linear-gradient(45deg, #7e7e7e, #7e7e7e 10px, #5c5c5c 10px, #5c5c5c 20px);\n",
       "    }\n",
       "    .progress-bar-interrupted, .progress-bar-interrupted::-webkit-progress-bar {\n",
       "        background: #F44336;\n",
       "    }\n",
       "</style>\n"
      ],
      "text/plain": [
       "<IPython.core.display.HTML object>"
      ]
     },
     "metadata": {},
     "output_type": "display_data"
    },
    {
     "data": {
      "text/html": [
       "\n",
       "    <div>\n",
       "      <progress value='582665' class='' max='582665' style='width:300px; height:20px; vertical-align: middle;'></progress>\n",
       "      100.00% [582665/582665 00:06&lt;00:00]\n",
       "    </div>\n",
       "    "
      ],
      "text/plain": [
       "<IPython.core.display.HTML object>"
      ]
     },
     "metadata": {},
     "output_type": "display_data"
    },
    {
     "name": "stdout",
     "output_type": "stream",
     "text": [
      "M:        0  I:    20001  U:        0\n",
      "M:        0  I:    20001  U:        0\n",
      "M:        0  I:    20001  U:        0\n",
      "M:        0  I:    20001  U:        0\n",
      "M:        0  I:    20001  U:        0\n",
      "M:        0  I:    20001  U:        0\n",
      "M:        0  I:    20001  U:        0\n",
      "M:        0  I:    20001  U:        0\n",
      "M:        0  I:    20001  U:        0\n",
      "M:        0  I:    20001  U:        0\n",
      "M:        0  I:    20001  U:        0\n",
      "M:        0  I:    20001  U:        0\n",
      "M:        0  I:    20001  U:        0\n",
      "M:        0  I:    20001  U:        0\n",
      "M:        0  I:    20001  U:        0\n",
      "M:        0  I:    20001  U:        0\n",
      "M:        0  I:    20001  U:        0\n",
      "M:        0  I:    20001  U:        0\n",
      "M:        0  I:    20001  U:        0\n",
      "M:        0  I:    20001  U:        0\n",
      "M:        0  I:    20001  U:        0\n",
      "M:        0  I:    20001  U:        0\n",
      "M:        0  I:    20001  U:        0\n",
      "M:        0  I:    20001  U:        0\n",
      "M:        0  I:    20001  U:        0\n",
      "M:        0  I:    20001  U:        0\n",
      "M:        0  I:    20001  U:        0\n",
      "M:        0  I:    20001  U:        0\n",
      "M:        0  I:    20001  U:        0\n",
      "M:        0  I:     2636  U:        0\n",
      "CPU times: user 8.95 s, sys: 371 ms, total: 9.33 s\n",
      "Wall time: 11.5 s\n"
     ]
    }
   ],
   "source": [
    "%%time\n",
    "df_retweets = read_retweets(DATA_DIR+'dataset/quarter_tweets.csv')\n",
    "display(df_retweets.head(5))\n",
    "collection = db['retweets']\n",
    "collection.delete_many({})\n",
    "df_to_mongodb(df_retweets, collection)"
   ]
  },
  {
   "cell_type": "markdown",
   "metadata": {},
   "source": [
    "## Check data coherence"
   ]
  },
  {
   "cell_type": "code",
   "execution_count": 140,
   "metadata": {},
   "outputs": [],
   "source": [
    "def flatten(d, parent_key='', sep='_'):\n",
    "    \"\"\"Formats MongoDB results\n",
    "    \n",
    "    Keyword arguments:\n",
    "    d -- dictionary with key and uncleaned values\n",
    "    parent_key --\n",
    "    sep --\n",
    "    \"\"\"\n",
    "    items = []\n",
    "    for k, v in d.items():\n",
    "        new_key = parent_key + sep + k if parent_key else k\n",
    "        if isinstance(v, MutableMapping):\n",
    "            items.extend(flatten(v, new_key, sep=sep).items())\n",
    "        else:\n",
    "            items.append((new_key, v))\n",
    "    return dict(items)"
   ]
  },
  {
   "cell_type": "markdown",
   "metadata": {},
   "source": [
    "## Load CSV in MongoDB"
   ]
  },
  {
   "cell_type": "markdown",
   "metadata": {},
   "source": [
    "### Tweets"
   ]
  },
  {
   "cell_type": "code",
   "execution_count": 141,
   "metadata": {},
   "outputs": [],
   "source": [
    "def get_tweets(collection):\n",
    "    \"\"\"\n",
    "    Gets tweets\n",
    "    \n",
    "    collection - Tweets MongoDB collection\n",
    "    \"\"\"\n",
    "    tweets = list(collection.find({},\n",
    "                                 {'_id' : True, 'user_id' : True, 'tweet_id' : True}))\n",
    "    \n",
    "    print(\"Number of tweets in DB:\", len(tweets))\n",
    "    tweets = [flatten(t) for t in tweets]\n",
    "    df_tweets = pd.DataFrame(tweets)\n",
    "    return df_tweets"
   ]
  },
  {
   "cell_type": "code",
   "execution_count": 142,
   "metadata": {},
   "outputs": [
    {
     "name": "stdout",
     "output_type": "stream",
     "text": [
      "Number of tweets in DB: 582665\n"
     ]
    },
    {
     "data": {
      "text/html": [
       "<div>\n",
       "<style scoped>\n",
       "    .dataframe tbody tr th:only-of-type {\n",
       "        vertical-align: middle;\n",
       "    }\n",
       "\n",
       "    .dataframe tbody tr th {\n",
       "        vertical-align: top;\n",
       "    }\n",
       "\n",
       "    .dataframe thead th {\n",
       "        text-align: right;\n",
       "    }\n",
       "</style>\n",
       "<table border=\"1\" class=\"dataframe\">\n",
       "  <thead>\n",
       "    <tr style=\"text-align: right;\">\n",
       "      <th></th>\n",
       "      <th>_id</th>\n",
       "      <th>tweet_id</th>\n",
       "      <th>user_id</th>\n",
       "    </tr>\n",
       "  </thead>\n",
       "  <tbody>\n",
       "    <tr>\n",
       "      <th>0</th>\n",
       "      <td>0000003C572F4897B02ED634986A2FC0</td>\n",
       "      <td>9FA5D424C04C4A1FAAE1F13CB48CEF3A</td>\n",
       "      <td>A145D4F25EF1453A82DA85E11660F875</td>\n",
       "    </tr>\n",
       "    <tr>\n",
       "      <th>1</th>\n",
       "      <td>0000038959814291A01F22AD21B450E5</td>\n",
       "      <td>94FFCF90FA3346FDB026D38C819499D8</td>\n",
       "      <td>637490CBEB4E4921BBE486F32A6ACC9D</td>\n",
       "    </tr>\n",
       "    <tr>\n",
       "      <th>2</th>\n",
       "      <td>0000097D875B42A0B41993B7F4978057</td>\n",
       "      <td>905885A62EE2469DB921591055E69076</td>\n",
       "      <td>C8A8AB4E56474B8C8904462CE93B9783</td>\n",
       "    </tr>\n",
       "    <tr>\n",
       "      <th>3</th>\n",
       "      <td>000009C5DD7F4F67BD90F29AC8FAD12C</td>\n",
       "      <td>NaN</td>\n",
       "      <td>16BF765B2C51417780F3C9EB0F597EA4</td>\n",
       "    </tr>\n",
       "    <tr>\n",
       "      <th>4</th>\n",
       "      <td>00000AE070FE4638A9D8F393A0B1A5B9</td>\n",
       "      <td>2817E3D23C0544309B9C142E710D3F56</td>\n",
       "      <td>986064C267C642C5B02A2DA0646E9D9B</td>\n",
       "    </tr>\n",
       "  </tbody>\n",
       "</table>\n",
       "</div>"
      ],
      "text/plain": [
       "                                _id                          tweet_id  \\\n",
       "0  0000003C572F4897B02ED634986A2FC0  9FA5D424C04C4A1FAAE1F13CB48CEF3A   \n",
       "1  0000038959814291A01F22AD21B450E5  94FFCF90FA3346FDB026D38C819499D8   \n",
       "2  0000097D875B42A0B41993B7F4978057  905885A62EE2469DB921591055E69076   \n",
       "3  000009C5DD7F4F67BD90F29AC8FAD12C                               NaN   \n",
       "4  00000AE070FE4638A9D8F393A0B1A5B9  2817E3D23C0544309B9C142E710D3F56   \n",
       "\n",
       "                            user_id  \n",
       "0  A145D4F25EF1453A82DA85E11660F875  \n",
       "1  637490CBEB4E4921BBE486F32A6ACC9D  \n",
       "2  C8A8AB4E56474B8C8904462CE93B9783  \n",
       "3  16BF765B2C51417780F3C9EB0F597EA4  \n",
       "4  986064C267C642C5B02A2DA0646E9D9B  "
      ]
     },
     "metadata": {},
     "output_type": "display_data"
    },
    {
     "name": "stdout",
     "output_type": "stream",
     "text": [
      "CPU times: user 1.62 s, sys: 233 ms, total: 1.85 s\n",
      "Wall time: 2.38 s\n"
     ]
    }
   ],
   "source": [
    "%%time\n",
    "df_tweets = get_tweets(db.tweets)\n",
    "display(df_tweets.head(5))"
   ]
  },
  {
   "cell_type": "markdown",
   "metadata": {},
   "source": [
    "### Users"
   ]
  },
  {
   "cell_type": "code",
   "execution_count": 143,
   "metadata": {},
   "outputs": [],
   "source": [
    "def get_users(collection):\n",
    "    \"\"\"\n",
    "    Gets users\n",
    "    \n",
    "    collection - Users MongoDB collection\n",
    "    \"\"\"\n",
    "    users = list(collection.find({},\n",
    "                                 {'_id' : True}))\n",
    "    \n",
    "    print(\"Number of users in DB:\", len(users))\n",
    "    users = [flatten(u) for u in users]\n",
    "    df_users = pd.DataFrame(users)\n",
    "    return df_users"
   ]
  },
  {
   "cell_type": "code",
   "execution_count": 144,
   "metadata": {},
   "outputs": [
    {
     "name": "stdout",
     "output_type": "stream",
     "text": [
      "Number of users in DB: 582665\n"
     ]
    },
    {
     "data": {
      "text/html": [
       "<div>\n",
       "<style scoped>\n",
       "    .dataframe tbody tr th:only-of-type {\n",
       "        vertical-align: middle;\n",
       "    }\n",
       "\n",
       "    .dataframe tbody tr th {\n",
       "        vertical-align: top;\n",
       "    }\n",
       "\n",
       "    .dataframe thead th {\n",
       "        text-align: right;\n",
       "    }\n",
       "</style>\n",
       "<table border=\"1\" class=\"dataframe\">\n",
       "  <thead>\n",
       "    <tr style=\"text-align: right;\">\n",
       "      <th></th>\n",
       "      <th>_id</th>\n",
       "    </tr>\n",
       "  </thead>\n",
       "  <tbody>\n",
       "    <tr>\n",
       "      <th>0</th>\n",
       "      <td>0000003C572F4897B02ED634986A2FC0</td>\n",
       "    </tr>\n",
       "    <tr>\n",
       "      <th>1</th>\n",
       "      <td>0000038959814291A01F22AD21B450E5</td>\n",
       "    </tr>\n",
       "    <tr>\n",
       "      <th>2</th>\n",
       "      <td>0000097D875B42A0B41993B7F4978057</td>\n",
       "    </tr>\n",
       "    <tr>\n",
       "      <th>3</th>\n",
       "      <td>000009C5DD7F4F67BD90F29AC8FAD12C</td>\n",
       "    </tr>\n",
       "    <tr>\n",
       "      <th>4</th>\n",
       "      <td>00000AE070FE4638A9D8F393A0B1A5B9</td>\n",
       "    </tr>\n",
       "  </tbody>\n",
       "</table>\n",
       "</div>"
      ],
      "text/plain": [
       "                                _id\n",
       "0  0000003C572F4897B02ED634986A2FC0\n",
       "1  0000038959814291A01F22AD21B450E5\n",
       "2  0000097D875B42A0B41993B7F4978057\n",
       "3  000009C5DD7F4F67BD90F29AC8FAD12C\n",
       "4  00000AE070FE4638A9D8F393A0B1A5B9"
      ]
     },
     "metadata": {},
     "output_type": "display_data"
    },
    {
     "name": "stdout",
     "output_type": "stream",
     "text": [
      "CPU times: user 979 ms, sys: 3.33 ms, total: 982 ms\n",
      "Wall time: 1.33 s\n"
     ]
    }
   ],
   "source": [
    "%%time\n",
    "df_users = get_users(db.users)\n",
    "display(df_users.head(5))"
   ]
  },
  {
   "cell_type": "markdown",
   "metadata": {},
   "source": [
    "#### Checking tweets without users"
   ]
  },
  {
   "cell_type": "code",
   "execution_count": 145,
   "metadata": {},
   "outputs": [
    {
     "name": "stdout",
     "output_type": "stream",
     "text": [
      "582665\n",
      "CPU times: user 365 ms, sys: 0 ns, total: 365 ms\n",
      "Wall time: 369 ms\n"
     ]
    }
   ],
   "source": [
    "%%time\n",
    "tweets_without_users =  df_tweets[~df_tweets.user_id.isin(df_users._id)]\n",
    "print(len(tweets_without_users))"
   ]
  },
  {
   "cell_type": "markdown",
   "metadata": {},
   "source": [
    "#### Checking users without tweets"
   ]
  },
  {
   "cell_type": "code",
   "execution_count": 146,
   "metadata": {},
   "outputs": [
    {
     "name": "stdout",
     "output_type": "stream",
     "text": [
      "582665\n",
      "CPU times: user 161 ms, sys: 0 ns, total: 161 ms\n",
      "Wall time: 160 ms\n"
     ]
    }
   ],
   "source": [
    "%%time\n",
    "users_without_tweets =  df_users[~df_users._id.isin(df_tweets.user_id)]\n",
    "print(len(users_without_tweets))"
   ]
  },
  {
   "cell_type": "markdown",
   "metadata": {},
   "source": [
    "### Retweets"
   ]
  },
  {
   "cell_type": "code",
   "execution_count": 147,
   "metadata": {},
   "outputs": [],
   "source": [
    "def get_retweets(collection):\n",
    "    \"\"\"\n",
    "    Gets retweets\n",
    "    \n",
    "    collection - Retweets MongoDB collection\n",
    "    \"\"\"\n",
    "    retweets = list(collection.find({},\n",
    "                                 {'_id': False, 'tweet_id' : True, 'user_id' : True}))\n",
    "    \n",
    "    print(\"Number of retweets in DB:\", len(retweets))\n",
    "    retweets = [flatten(r) for r in retweets]\n",
    "    df_retweets = pd.DataFrame(retweets)\n",
    "    return df_retweets"
   ]
  },
  {
   "cell_type": "code",
   "execution_count": 148,
   "metadata": {},
   "outputs": [
    {
     "name": "stdout",
     "output_type": "stream",
     "text": [
      "Number of retweets in DB: 582665\n"
     ]
    },
    {
     "data": {
      "text/html": [
       "<div>\n",
       "<style scoped>\n",
       "    .dataframe tbody tr th:only-of-type {\n",
       "        vertical-align: middle;\n",
       "    }\n",
       "\n",
       "    .dataframe tbody tr th {\n",
       "        vertical-align: top;\n",
       "    }\n",
       "\n",
       "    .dataframe thead th {\n",
       "        text-align: right;\n",
       "    }\n",
       "</style>\n",
       "<table border=\"1\" class=\"dataframe\">\n",
       "  <thead>\n",
       "    <tr style=\"text-align: right;\">\n",
       "      <th></th>\n",
       "      <th>tweet_id</th>\n",
       "      <th>user_id</th>\n",
       "    </tr>\n",
       "  </thead>\n",
       "  <tbody>\n",
       "    <tr>\n",
       "      <th>0</th>\n",
       "      <td>9FA5D424C04C4A1FAAE1F13CB48CEF3A</td>\n",
       "      <td>A145D4F25EF1453A82DA85E11660F875</td>\n",
       "    </tr>\n",
       "    <tr>\n",
       "      <th>1</th>\n",
       "      <td>94FFCF90FA3346FDB026D38C819499D8</td>\n",
       "      <td>637490CBEB4E4921BBE486F32A6ACC9D</td>\n",
       "    </tr>\n",
       "    <tr>\n",
       "      <th>2</th>\n",
       "      <td>905885A62EE2469DB921591055E69076</td>\n",
       "      <td>C8A8AB4E56474B8C8904462CE93B9783</td>\n",
       "    </tr>\n",
       "    <tr>\n",
       "      <th>3</th>\n",
       "      <td>NaN</td>\n",
       "      <td>16BF765B2C51417780F3C9EB0F597EA4</td>\n",
       "    </tr>\n",
       "    <tr>\n",
       "      <th>4</th>\n",
       "      <td>2817E3D23C0544309B9C142E710D3F56</td>\n",
       "      <td>986064C267C642C5B02A2DA0646E9D9B</td>\n",
       "    </tr>\n",
       "  </tbody>\n",
       "</table>\n",
       "</div>"
      ],
      "text/plain": [
       "                           tweet_id                           user_id\n",
       "0  9FA5D424C04C4A1FAAE1F13CB48CEF3A  A145D4F25EF1453A82DA85E11660F875\n",
       "1  94FFCF90FA3346FDB026D38C819499D8  637490CBEB4E4921BBE486F32A6ACC9D\n",
       "2  905885A62EE2469DB921591055E69076  C8A8AB4E56474B8C8904462CE93B9783\n",
       "3                               NaN  16BF765B2C51417780F3C9EB0F597EA4\n",
       "4  2817E3D23C0544309B9C142E710D3F56  986064C267C642C5B02A2DA0646E9D9B"
      ]
     },
     "metadata": {},
     "output_type": "display_data"
    },
    {
     "name": "stdout",
     "output_type": "stream",
     "text": [
      "CPU times: user 1.47 s, sys: 43.5 ms, total: 1.51 s\n",
      "Wall time: 1.91 s\n"
     ]
    }
   ],
   "source": [
    "%%time\n",
    "df_retweets = get_retweets(db.retweets)\n",
    "display(df_retweets.head(5))"
   ]
  },
  {
   "cell_type": "markdown",
   "metadata": {},
   "source": [
    "#### Checking retweets without referenced tweet"
   ]
  },
  {
   "cell_type": "code",
   "execution_count": 149,
   "metadata": {},
   "outputs": [
    {
     "name": "stdout",
     "output_type": "stream",
     "text": [
      "0\n",
      "CPU times: user 226 ms, sys: 47 µs, total: 226 ms\n",
      "Wall time: 223 ms\n"
     ]
    }
   ],
   "source": [
    "%%time\n",
    "retweets_without_tweet =  df_retweets[~df_retweets.tweet_id.isin(df_tweets.tweet_id)]\n",
    "print(len(retweets_without_tweet))"
   ]
  },
  {
   "cell_type": "markdown",
   "metadata": {},
   "source": [
    "#### Checking retweets without user"
   ]
  },
  {
   "cell_type": "code",
   "execution_count": 150,
   "metadata": {},
   "outputs": [
    {
     "name": "stdout",
     "output_type": "stream",
     "text": [
      "582665\n",
      "CPU times: user 281 ms, sys: 0 ns, total: 281 ms\n",
      "Wall time: 278 ms\n"
     ]
    }
   ],
   "source": [
    "%%time\n",
    "retweets_without_user =  df_retweets[~df_retweets.user_id.isin(df_users._id)]\n",
    "print(len(retweets_without_user))"
   ]
  },
  {
   "cell_type": "markdown",
   "metadata": {},
   "source": [
    "### Mentions"
   ]
  },
  {
   "cell_type": "code",
   "execution_count": 151,
   "metadata": {},
   "outputs": [],
   "source": [
    "def get_mentions(collection):\n",
    "    \"\"\"\n",
    "    Gets mentions\n",
    "    \n",
    "    collection - Mentions MongoDB collection\n",
    "    \"\"\"\n",
    "    mentions = list(collection.find({},\n",
    "                                 {'_id': False, 'tweet_id' : True, 'user_id' : True}))\n",
    "    \n",
    "    print(\"Number of mentions in DB:\", len(mentions))\n",
    "    mentions = [flatten(m) for m in mentions]\n",
    "    df_mentions = pd.DataFrame(mentions)\n",
    "    return df_mentions"
   ]
  },
  {
   "cell_type": "code",
   "execution_count": 152,
   "metadata": {},
   "outputs": [
    {
     "name": "stdout",
     "output_type": "stream",
     "text": [
      "Number of mentions in DB: 582665\n"
     ]
    },
    {
     "data": {
      "text/html": [
       "<div>\n",
       "<style scoped>\n",
       "    .dataframe tbody tr th:only-of-type {\n",
       "        vertical-align: middle;\n",
       "    }\n",
       "\n",
       "    .dataframe tbody tr th {\n",
       "        vertical-align: top;\n",
       "    }\n",
       "\n",
       "    .dataframe thead th {\n",
       "        text-align: right;\n",
       "    }\n",
       "</style>\n",
       "<table border=\"1\" class=\"dataframe\">\n",
       "  <thead>\n",
       "    <tr style=\"text-align: right;\">\n",
       "      <th></th>\n",
       "      <th>user_id</th>\n",
       "      <th>tweet_id</th>\n",
       "    </tr>\n",
       "  </thead>\n",
       "  <tbody>\n",
       "    <tr>\n",
       "      <th>0</th>\n",
       "      <td>81CF6091B67C4FED85DAD0602F27CE2C</td>\n",
       "      <td>A145D4F25EF1453A82DA85E11660F875</td>\n",
       "    </tr>\n",
       "    <tr>\n",
       "      <th>1</th>\n",
       "      <td>9D37C222FA614DCAB07D282769CFBAF2</td>\n",
       "      <td>637490CBEB4E4921BBE486F32A6ACC9D</td>\n",
       "    </tr>\n",
       "    <tr>\n",
       "      <th>2</th>\n",
       "      <td>120464FCFBD347C094721218B577062F</td>\n",
       "      <td>C8A8AB4E56474B8C8904462CE93B9783</td>\n",
       "    </tr>\n",
       "    <tr>\n",
       "      <th>3</th>\n",
       "      <td>NaN</td>\n",
       "      <td>16BF765B2C51417780F3C9EB0F597EA4</td>\n",
       "    </tr>\n",
       "    <tr>\n",
       "      <th>4</th>\n",
       "      <td>AF38ED69FC164512B47720DF3C7A74CE</td>\n",
       "      <td>986064C267C642C5B02A2DA0646E9D9B</td>\n",
       "    </tr>\n",
       "  </tbody>\n",
       "</table>\n",
       "</div>"
      ],
      "text/plain": [
       "                            user_id                          tweet_id\n",
       "0  81CF6091B67C4FED85DAD0602F27CE2C  A145D4F25EF1453A82DA85E11660F875\n",
       "1  9D37C222FA614DCAB07D282769CFBAF2  637490CBEB4E4921BBE486F32A6ACC9D\n",
       "2  120464FCFBD347C094721218B577062F  C8A8AB4E56474B8C8904462CE93B9783\n",
       "3                               NaN  16BF765B2C51417780F3C9EB0F597EA4\n",
       "4  AF38ED69FC164512B47720DF3C7A74CE  986064C267C642C5B02A2DA0646E9D9B"
      ]
     },
     "metadata": {},
     "output_type": "display_data"
    },
    {
     "name": "stdout",
     "output_type": "stream",
     "text": [
      "CPU times: user 1.28 s, sys: 48 ms, total: 1.33 s\n",
      "Wall time: 1.72 s\n"
     ]
    }
   ],
   "source": [
    "%%time\n",
    "df_mentions = get_mentions(db.mentions)\n",
    "display(df_mentions.head(5))"
   ]
  },
  {
   "cell_type": "markdown",
   "metadata": {},
   "source": [
    "#### Checking mentions without referenced tweet"
   ]
  },
  {
   "cell_type": "code",
   "execution_count": 153,
   "metadata": {},
   "outputs": [
    {
     "name": "stdout",
     "output_type": "stream",
     "text": [
      "582665\n",
      "CPU times: user 346 ms, sys: 196 µs, total: 346 ms\n",
      "Wall time: 340 ms\n"
     ]
    }
   ],
   "source": [
    "%%time\n",
    "mentions_without_tweet =  df_mentions[~df_mentions.tweet_id.isin(df_tweets._id)]\n",
    "print(len(mentions_without_tweet))"
   ]
  },
  {
   "cell_type": "markdown",
   "metadata": {},
   "source": [
    "#### Checking mentions without user"
   ]
  },
  {
   "cell_type": "code",
   "execution_count": 154,
   "metadata": {},
   "outputs": [
    {
     "name": "stdout",
     "output_type": "stream",
     "text": [
      "582665\n",
      "CPU times: user 217 ms, sys: 0 ns, total: 217 ms\n",
      "Wall time: 214 ms\n"
     ]
    }
   ],
   "source": [
    "%%time\n",
    "mentions_without_user =  df_mentions[~df_mentions.user_id.isin(df_users._id)]\n",
    "print(len(mentions_without_user))"
   ]
  },
  {
   "cell_type": "markdown",
   "metadata": {},
   "source": [
    "### Mentions"
   ]
  },
  {
   "cell_type": "code",
   "execution_count": 155,
   "metadata": {},
   "outputs": [],
   "source": [
    "def get_hashtags(collection):\n",
    "    \"\"\"\n",
    "    Gets mentions\n",
    "    \n",
    "    collection - Hashtags MongoDB collection\n",
    "    \"\"\"\n",
    "    hashtags = list(collection.find({},\n",
    "                                 {'_id': False, 'tweet_id' : True}))\n",
    "    \n",
    "    print(\"Number of hashtags in DB:\", len(hashtags))\n",
    "    hashtags = [flatten(h) for h in hashtags]\n",
    "    df_hashtags = pd.DataFrame(hashtags)\n",
    "    return df_hashtags"
   ]
  },
  {
   "cell_type": "code",
   "execution_count": 156,
   "metadata": {},
   "outputs": [
    {
     "name": "stdout",
     "output_type": "stream",
     "text": [
      "Number of hashtags in DB: 582665\n"
     ]
    },
    {
     "data": {
      "text/html": [
       "<div>\n",
       "<style scoped>\n",
       "    .dataframe tbody tr th:only-of-type {\n",
       "        vertical-align: middle;\n",
       "    }\n",
       "\n",
       "    .dataframe tbody tr th {\n",
       "        vertical-align: top;\n",
       "    }\n",
       "\n",
       "    .dataframe thead th {\n",
       "        text-align: right;\n",
       "    }\n",
       "</style>\n",
       "<table border=\"1\" class=\"dataframe\">\n",
       "  <thead>\n",
       "    <tr style=\"text-align: right;\">\n",
       "      <th></th>\n",
       "      <th>tweet_id</th>\n",
       "    </tr>\n",
       "  </thead>\n",
       "  <tbody>\n",
       "    <tr>\n",
       "      <th>0</th>\n",
       "      <td>9FA5D424C04C4A1FAAE1F13CB48CEF3A</td>\n",
       "    </tr>\n",
       "    <tr>\n",
       "      <th>1</th>\n",
       "      <td>94FFCF90FA3346FDB026D38C819499D8</td>\n",
       "    </tr>\n",
       "    <tr>\n",
       "      <th>2</th>\n",
       "      <td>905885A62EE2469DB921591055E69076</td>\n",
       "    </tr>\n",
       "    <tr>\n",
       "      <th>3</th>\n",
       "      <td>NaN</td>\n",
       "    </tr>\n",
       "    <tr>\n",
       "      <th>4</th>\n",
       "      <td>2817E3D23C0544309B9C142E710D3F56</td>\n",
       "    </tr>\n",
       "  </tbody>\n",
       "</table>\n",
       "</div>"
      ],
      "text/plain": [
       "                           tweet_id\n",
       "0  9FA5D424C04C4A1FAAE1F13CB48CEF3A\n",
       "1  94FFCF90FA3346FDB026D38C819499D8\n",
       "2  905885A62EE2469DB921591055E69076\n",
       "3                               NaN\n",
       "4  2817E3D23C0544309B9C142E710D3F56"
      ]
     },
     "metadata": {},
     "output_type": "display_data"
    },
    {
     "name": "stdout",
     "output_type": "stream",
     "text": [
      "CPU times: user 901 ms, sys: 68.6 ms, total: 970 ms\n",
      "Wall time: 1.37 s\n"
     ]
    }
   ],
   "source": [
    "%%time\n",
    "df_hashtags = get_hashtags(db.hashtags)\n",
    "display(df_hashtags.head(5))"
   ]
  },
  {
   "cell_type": "markdown",
   "metadata": {},
   "source": [
    "#### Checking hashtags without tweet"
   ]
  },
  {
   "cell_type": "code",
   "execution_count": 157,
   "metadata": {},
   "outputs": [
    {
     "name": "stdout",
     "output_type": "stream",
     "text": [
      "536965\n",
      "CPU times: user 265 ms, sys: 0 ns, total: 265 ms\n",
      "Wall time: 263 ms\n"
     ]
    }
   ],
   "source": [
    "%%time\n",
    "hashtags_without_tweet =  df_hashtags[~df_hashtags.tweet_id.isin(df_tweets._id)]\n",
    "print(len(hashtags_without_tweet))"
   ]
  },
  {
   "cell_type": "markdown",
   "metadata": {},
   "source": [
    "## Other checkings"
   ]
  },
  {
   "cell_type": "markdown",
   "metadata": {},
   "source": [
    "#### Freq of each user"
   ]
  },
  {
   "cell_type": "code",
   "execution_count": 158,
   "metadata": {},
   "outputs": [],
   "source": [
    "freq = df_tweets.user_id.value_counts()"
   ]
  },
  {
   "cell_type": "code",
   "execution_count": 159,
   "metadata": {},
   "outputs": [],
   "source": [
    "freq2 = df_retweets.user_id.value_counts()"
   ]
  },
  {
   "cell_type": "code",
   "execution_count": 160,
   "metadata": {},
   "outputs": [
    {
     "data": {
      "text/plain": [
       "F70EAAA8F23A48CDA4785F63FF7C4F71    353\n",
       "7EEB0131C0A84616886627F3E082AD0C    305\n",
       "4D350C3C7EAA429ABBA65E8F1AC80A91    285\n",
       "8BE7408EAA85416C99B172A8C921C31A    253\n",
       "E954A7EC8B9848CF8FE6B1FC58F46DF3    245\n",
       "5F5AF98400EF49308E183E3367C64941    230\n",
       "19BC12B3E3174FBBBC01141F537E4227    224\n",
       "833163C348D9465F9139EFF896F3AEC4    205\n",
       "1E6F94B0E9DE40878589FA322FF08BE5    202\n",
       "9B8A6701440D4E0C87643F4AF48D0501    200\n",
       "Name: user_id, dtype: int64"
      ]
     },
     "execution_count": 160,
     "metadata": {},
     "output_type": "execute_result"
    }
   ],
   "source": [
    "freq2.head(10)"
   ]
  },
  {
   "cell_type": "code",
   "execution_count": 161,
   "metadata": {},
   "outputs": [
    {
     "data": {
      "text/plain": [
       "F70EAAA8F23A48CDA4785F63FF7C4F71    706\n",
       "7EEB0131C0A84616886627F3E082AD0C    610\n",
       "4D350C3C7EAA429ABBA65E8F1AC80A91    570\n",
       "8BE7408EAA85416C99B172A8C921C31A    506\n",
       "E954A7EC8B9848CF8FE6B1FC58F46DF3    490\n",
       "5F5AF98400EF49308E183E3367C64941    460\n",
       "19BC12B3E3174FBBBC01141F537E4227    448\n",
       "833163C348D9465F9139EFF896F3AEC4    410\n",
       "1E6F94B0E9DE40878589FA322FF08BE5    404\n",
       "9B8A6701440D4E0C87643F4AF48D0501    400\n",
       "Name: user_id, dtype: int64"
      ]
     },
     "metadata": {},
     "output_type": "display_data"
    }
   ],
   "source": [
    "fsum = freq.add(freq2, fill_value=0)\n",
    "display(fsum.head(10))"
   ]
  },
  {
   "cell_type": "code",
   "execution_count": 162,
   "metadata": {},
   "outputs": [],
   "source": [
    "fsum.to_pickle(path=DATA_DIR+'users_freq.pickle')"
   ]
  }
 ],
 "metadata": {
  "kernelspec": {
   "display_name": "Python 3",
   "language": "python",
   "name": "python3"
  },
  "language_info": {
   "codemirror_mode": {
    "name": "ipython",
    "version": 3
   },
   "file_extension": ".py",
   "mimetype": "text/x-python",
   "name": "python",
   "nbconvert_exporter": "python",
   "pygments_lexer": "ipython3",
   "version": "3.11.5"
  }
 },
 "nbformat": 4,
 "nbformat_minor": 4
}
